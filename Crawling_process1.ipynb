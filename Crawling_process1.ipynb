{
 "cells": [
  {
   "cell_type": "markdown",
   "metadata": {},
   "source": [
    "### 관광명소 인기순 1000곳을 크롤링"
   ]
  },
  {
   "cell_type": "code",
   "execution_count": 3,
   "metadata": {},
   "outputs": [],
   "source": [
    "import time\n",
    "import requests\n",
    "from selenium import webdriver\n",
    "from bs4 import BeautifulSoup"
   ]
  },
  {
   "cell_type": "code",
   "execution_count": 41,
   "metadata": {},
   "outputs": [],
   "source": [
    "url = \"https://korean.visitkorea.or.kr/list/ms_list.do?choiceTag=관광지\"\n",
    "driver = webdriver.Chrome()\n",
    "driver.set_window_size(1080,1000)\n",
    "driver.get(url)"
   ]
  },
  {
   "cell_type": "code",
   "execution_count": 43,
   "metadata": {},
   "outputs": [],
   "source": [
    "driver.find_element_by_css_selector(\"#taglist > li > button> span \").click()"
   ]
  },
  {
   "cell_type": "code",
   "execution_count": 42,
   "metadata": {},
   "outputs": [],
   "source": [
    "driver.find_element_by_css_selector('div.total_check > div > button:nth-child(3)').click()"
   ]
  },
  {
   "cell_type": "code",
   "execution_count": 60,
   "metadata": {},
   "outputs": [],
   "source": [
    "tour_ls = []\n",
    "page_list = ['1','2','3','4','5','6'] + ['4','5','6','7','8']*18 + ['4','5','6','7']\n",
    "new_element = [\"div.page_box a:nth-child({})\".format(i) for i  in page_list]\n",
    "\n",
    "for element in new_element:\n",
    "    time.sleep(1)\n",
    "    driver.find_element_by_css_selector(element).click()\n",
    "    time.sleep(2)\n",
    "    \n",
    "    html = driver.page_source\n",
    "    soup = BeautifulSoup(html, 'html.parser')\n",
    "    try:\n",
    "        for i in range(1, 11):\n",
    "            name = soup.select('#contents > div.wrap_contView.clfix > div.box_leftType1 > ul > li:nth-of-type({}) > div.area_txt > div > a'.format(i))[0].text\n",
    "            link = soup.select('#contents > div.wrap_contView.clfix > div.box_leftType1 > ul > li:nth-of-type({}) > div.area_txt > div > a'.format(i))[0].get(\"onclick\")\n",
    "            tag = soup.select('#contents > div.wrap_contView.clfix > div.box_leftType1 > ul > li:nth-of-type({}) > div.area_txt p span' .format(i))\n",
    "            tag = [a.text for a in tag]\n",
    "            tag = \"\".join(tag)\n",
    "\n",
    "            tour_ls.append({\"NAME\":name, \"tag\":tag, \"link\":link})\n",
    "    except:\n",
    "        pass\n",
    "    "
   ]
  },
  {
   "cell_type": "code",
   "execution_count": 61,
   "metadata": {},
   "outputs": [
    {
     "data": {
      "text/plain": [
       "(1000, 0             합천 영상테마파크\n",
       " 1              헤이리 예술마을\n",
       " 2                  아홉산숲\n",
       " 3                해피초원목장\n",
       " 4      부석사[유네스코 세계문화유산]\n",
       "              ...       \n",
       " 995                 백담사\n",
       " 996                 숭례문\n",
       " 997          대부바다향기테마파크\n",
       " 998      남해 관음포 이충무공 유적\n",
       " 999              모래시계공원\n",
       " Name: NAME, Length: 1000, dtype: object)"
      ]
     },
     "execution_count": 61,
     "metadata": {},
     "output_type": "execute_result"
    }
   ],
   "source": [
    "df = pd.DataFrame(tour_ls)\n",
    "len(df.NAME), df.NAME"
   ]
  },
  {
   "cell_type": "code",
   "execution_count": 63,
   "metadata": {},
   "outputs": [],
   "source": [
    "pop_1000 = list(df.NAME)"
   ]
  },
  {
   "cell_type": "markdown",
   "metadata": {},
   "source": [
    "### 이전에 크롤링 하였던 1명소당 블로그 정보 100건을 정보를 가져온다"
   ]
  },
  {
   "cell_type": "code",
   "execution_count": 64,
   "metadata": {},
   "outputs": [],
   "source": [
    "data = pd.read_csv(\"./blog 크롤링.csv\")"
   ]
  },
  {
   "cell_type": "code",
   "execution_count": 66,
   "metadata": {},
   "outputs": [],
   "source": [
    "data = data[data.NAME.isin(pop_1000)]"
   ]
  },
  {
   "cell_type": "code",
   "execution_count": 67,
   "metadata": {},
   "outputs": [
    {
     "data": {
      "text/html": [
       "<div>\n",
       "<style scoped>\n",
       "    .dataframe tbody tr th:only-of-type {\n",
       "        vertical-align: middle;\n",
       "    }\n",
       "\n",
       "    .dataframe tbody tr th {\n",
       "        vertical-align: top;\n",
       "    }\n",
       "\n",
       "    .dataframe thead th {\n",
       "        text-align: right;\n",
       "    }\n",
       "</style>\n",
       "<table border=\"1\" class=\"dataframe\">\n",
       "  <thead>\n",
       "    <tr style=\"text-align: right;\">\n",
       "      <th></th>\n",
       "      <th>Unnamed: 0</th>\n",
       "      <th>NAME</th>\n",
       "      <th>title</th>\n",
       "      <th>link</th>\n",
       "      <th>description</th>\n",
       "    </tr>\n",
       "  </thead>\n",
       "  <tbody>\n",
       "    <tr>\n",
       "      <td>200</td>\n",
       "      <td>0</td>\n",
       "      <td>천장호 출렁다리</td>\n",
       "      <td>청양 가볼만한곳 청양대표 천장호 출렁다리</td>\n",
       "      <td>http://blog.daum.net/e-chungnam/5967</td>\n",
       "      <td>청양 가볼만한곳 천장호 출렁다리 청양군의 대표적인 관광지 천장호 출렁다리... 천장...</td>\n",
       "    </tr>\n",
       "    <tr>\n",
       "      <td>201</td>\n",
       "      <td>1</td>\n",
       "      <td>천장호 출렁다리</td>\n",
       "      <td>천장호 출렁다리 세계에서 제일 큰 고추랑 구기자 만남</td>\n",
       "      <td>https://blog.naver.com/emong0902?Redirect=Log&amp;...</td>\n",
       "      <td>천장호, 옆으로 보이는 호수 모습이 참 아름다웠어요 그리고 천장호 출렁다리... 대...</td>\n",
       "    </tr>\n",
       "    <tr>\n",
       "      <td>202</td>\n",
       "      <td>2</td>\n",
       "      <td>천장호 출렁다리</td>\n",
       "      <td>청양 천장호출렁다리의 철쭉꽃 필 때 #페이지</td>\n",
       "      <td>https://blog.naver.com/shbae3521?Redirect=Log&amp;...</td>\n",
       "      <td>207m의 천장호출렁다리를 건너면서! 천장호를 건너면 맞은편에서 맞이하는 호랑이! ...</td>\n",
       "    </tr>\n",
       "    <tr>\n",
       "      <td>203</td>\n",
       "      <td>3</td>\n",
       "      <td>천장호 출렁다리</td>\n",
       "      <td>청양 고운식물원과 함께 만나는 천장호 출렁다리와 칠갑산천문대 스타파크</td>\n",
       "      <td>https://withbeatles.tistory.com/2903</td>\n",
       "      <td>5m의 국내 최장 출렁다리로 동양에서는 두번째로 길다. 고추 모형의 주탑을 통과한 ...</td>\n",
       "    </tr>\n",
       "    <tr>\n",
       "      <td>204</td>\n",
       "      <td>4</td>\n",
       "      <td>천장호 출렁다리</td>\n",
       "      <td>칠갑산 등산코스 천장호출렁다리 출발 원점회귀 산행</td>\n",
       "      <td>https://blog.naver.com/lbs2?Redirect=Log&amp;logNo...</td>\n",
       "      <td>출렁되는 다리에서 보는 천장호의 풍경은 고즈넉하면서 멋진 풍경입니다. 이번에 제가 ...</td>\n",
       "    </tr>\n",
       "    <tr>\n",
       "      <td>...</td>\n",
       "      <td>...</td>\n",
       "      <td>...</td>\n",
       "      <td>...</td>\n",
       "      <td>...</td>\n",
       "      <td>...</td>\n",
       "    </tr>\n",
       "    <tr>\n",
       "      <td>294893</td>\n",
       "      <td>95</td>\n",
       "      <td>광안리해변 테마거리</td>\n",
       "      <td>부산여행, 부산데이트, 민락 수변공원, 광안리해변 야경</td>\n",
       "      <td>https://blog.naver.com/star_shot?Redirect=Log&amp;...</td>\n",
       "      <td>앞이 광안리해변입니다 그래서 부산 밤 광안리, 민락수변공원 산책을 나서지 않을......</td>\n",
       "    </tr>\n",
       "    <tr>\n",
       "      <td>294894</td>\n",
       "      <td>96</td>\n",
       "      <td>광안리해변 테마거리</td>\n",
       "      <td>부산 옥련선원및 광안리 어방축제</td>\n",
       "      <td>http://blog.daum.net/ehk56/16129853</td>\n",
       "      <td>해변테마거리 → 민락횟촌 → 옥련선원 → MBC방송국 → 수영사적공원 → KBS방송...</td>\n",
       "    </tr>\n",
       "    <tr>\n",
       "      <td>294895</td>\n",
       "      <td>97</td>\n",
       "      <td>광안리해변 테마거리</td>\n",
       "      <td>광안리 어방축제가 온다!</td>\n",
       "      <td>http://blog.daum.net/sciensea/559</td>\n",
       "      <td>첫번째로 거리퍼레이드로 축체 첫째날인 6월 12일 토요일 오후 16시부터 17시30...</td>\n",
       "    </tr>\n",
       "    <tr>\n",
       "      <td>294896</td>\n",
       "      <td>98</td>\n",
       "      <td>광안리해변 테마거리</td>\n",
       "      <td>[부산가볼만한곳] 제 11회 광안리 어방축제 로 놀러오세요!</td>\n",
       "      <td>https://blog.naver.com/i_loveeye?Redirect=Log&amp;...</td>\n",
       "      <td>전국에서 유일하게 전통어촌의 민속을 주제로 열리는 \"광안리 어방축제\"는요, 광안리 ...</td>\n",
       "    </tr>\n",
       "    <tr>\n",
       "      <td>294897</td>\n",
       "      <td>99</td>\n",
       "      <td>광안리해변 테마거리</td>\n",
       "      <td>[부산] 난생 처음 부산 / 부산역 맛집 , 광안리 해변 , 비프광장</td>\n",
       "      <td>https://ddgfg54.blog.me/221623002367</td>\n",
       "      <td>체크인 시간 까지 시간이 꽤 남아서 일단 광안리 해변으로 갔다 광안리 해변... 세...</td>\n",
       "    </tr>\n",
       "  </tbody>\n",
       "</table>\n",
       "<p>40968 rows × 5 columns</p>\n",
       "</div>"
      ],
      "text/plain": [
       "        Unnamed: 0        NAME                                   title  \\\n",
       "200              0    천장호 출렁다리                  청양 가볼만한곳 청양대표 천장호 출렁다리   \n",
       "201              1    천장호 출렁다리           천장호 출렁다리 세계에서 제일 큰 고추랑 구기자 만남   \n",
       "202              2    천장호 출렁다리                청양 천장호출렁다리의 철쭉꽃 필 때 #페이지   \n",
       "203              3    천장호 출렁다리  청양 고운식물원과 함께 만나는 천장호 출렁다리와 칠갑산천문대 스타파크   \n",
       "204              4    천장호 출렁다리             칠갑산 등산코스 천장호출렁다리 출발 원점회귀 산행   \n",
       "...            ...         ...                                     ...   \n",
       "294893          95  광안리해변 테마거리          부산여행, 부산데이트, 민락 수변공원, 광안리해변 야경   \n",
       "294894          96  광안리해변 테마거리                       부산 옥련선원및 광안리 어방축제   \n",
       "294895          97  광안리해변 테마거리                           광안리 어방축제가 온다!   \n",
       "294896          98  광안리해변 테마거리       [부산가볼만한곳] 제 11회 광안리 어방축제 로 놀러오세요!   \n",
       "294897          99  광안리해변 테마거리  [부산] 난생 처음 부산 / 부산역 맛집 , 광안리 해변 , 비프광장   \n",
       "\n",
       "                                                     link  \\\n",
       "200                  http://blog.daum.net/e-chungnam/5967   \n",
       "201     https://blog.naver.com/emong0902?Redirect=Log&...   \n",
       "202     https://blog.naver.com/shbae3521?Redirect=Log&...   \n",
       "203                  https://withbeatles.tistory.com/2903   \n",
       "204     https://blog.naver.com/lbs2?Redirect=Log&logNo...   \n",
       "...                                                   ...   \n",
       "294893  https://blog.naver.com/star_shot?Redirect=Log&...   \n",
       "294894                http://blog.daum.net/ehk56/16129853   \n",
       "294895                  http://blog.daum.net/sciensea/559   \n",
       "294896  https://blog.naver.com/i_loveeye?Redirect=Log&...   \n",
       "294897               https://ddgfg54.blog.me/221623002367   \n",
       "\n",
       "                                              description  \n",
       "200     청양 가볼만한곳 천장호 출렁다리 청양군의 대표적인 관광지 천장호 출렁다리... 천장...  \n",
       "201     천장호, 옆으로 보이는 호수 모습이 참 아름다웠어요 그리고 천장호 출렁다리... 대...  \n",
       "202     207m의 천장호출렁다리를 건너면서! 천장호를 건너면 맞은편에서 맞이하는 호랑이! ...  \n",
       "203     5m의 국내 최장 출렁다리로 동양에서는 두번째로 길다. 고추 모형의 주탑을 통과한 ...  \n",
       "204     출렁되는 다리에서 보는 천장호의 풍경은 고즈넉하면서 멋진 풍경입니다. 이번에 제가 ...  \n",
       "...                                                   ...  \n",
       "294893  앞이 광안리해변입니다 그래서 부산 밤 광안리, 민락수변공원 산책을 나서지 않을......  \n",
       "294894  해변테마거리 → 민락횟촌 → 옥련선원 → MBC방송국 → 수영사적공원 → KBS방송...  \n",
       "294895  첫번째로 거리퍼레이드로 축체 첫째날인 6월 12일 토요일 오후 16시부터 17시30...  \n",
       "294896  전국에서 유일하게 전통어촌의 민속을 주제로 열리는 \"광안리 어방축제\"는요, 광안리 ...  \n",
       "294897  체크인 시간 까지 시간이 꽤 남아서 일단 광안리 해변으로 갔다 광안리 해변... 세...  \n",
       "\n",
       "[40968 rows x 5 columns]"
      ]
     },
     "execution_count": 67,
     "metadata": {},
     "output_type": "execute_result"
    }
   ],
   "source": [
    "data"
   ]
  },
  {
   "cell_type": "code",
   "execution_count": 68,
   "metadata": {},
   "outputs": [
    {
     "data": {
      "text/plain": [
       "410"
      ]
     },
     "execution_count": 68,
     "metadata": {},
     "output_type": "execute_result"
    }
   ],
   "source": [
    "len(data.NAME.unique())"
   ]
  },
  {
   "cell_type": "code",
   "execution_count": 69,
   "metadata": {},
   "outputs": [],
   "source": [
    "data2 = pd.read_csv('./blog_list.csv')"
   ]
  },
  {
   "cell_type": "code",
   "execution_count": 70,
   "metadata": {},
   "outputs": [],
   "source": [
    "data2 = data2[data2.NAME.isin(pop_1000)]"
   ]
  },
  {
   "cell_type": "code",
   "execution_count": 71,
   "metadata": {},
   "outputs": [
    {
     "data": {
      "text/html": [
       "<div>\n",
       "<style scoped>\n",
       "    .dataframe tbody tr th:only-of-type {\n",
       "        vertical-align: middle;\n",
       "    }\n",
       "\n",
       "    .dataframe tbody tr th {\n",
       "        vertical-align: top;\n",
       "    }\n",
       "\n",
       "    .dataframe thead th {\n",
       "        text-align: right;\n",
       "    }\n",
       "</style>\n",
       "<table border=\"1\" class=\"dataframe\">\n",
       "  <thead>\n",
       "    <tr style=\"text-align: right;\">\n",
       "      <th></th>\n",
       "      <th>NAME</th>\n",
       "      <th>title</th>\n",
       "      <th>link</th>\n",
       "      <th>description</th>\n",
       "    </tr>\n",
       "  </thead>\n",
       "  <tbody>\n",
       "    <tr>\n",
       "      <td>2186</td>\n",
       "      <td>금선사(서울)</td>\n",
       "      <td>종로구 구기동 _ 서울 템플스테이 금선사 휴식형 1박2일 힐링후기</td>\n",
       "      <td>https://blog.naver.com/nmnma22?Redirect=Log&amp;lo...</td>\n",
       "      <td>추석 연휴 전 미리 예약해둔 서울 금선사 템플스테이! 예전에 템플스테이 후기를 접하...</td>\n",
       "    </tr>\n",
       "    <tr>\n",
       "      <td>2187</td>\n",
       "      <td>금선사(서울)</td>\n",
       "      <td>서울 금선사 템플스테이</td>\n",
       "      <td>https://blog.naver.com/cutejh93?Redirect=Log&amp;l...</td>\n",
       "      <td>있는 금선사로 선택했다. 친구랑 같이 가기로 했는데 어쩌다보니 광화문에서... 갹 ...</td>\n",
       "    </tr>\n",
       "    <tr>\n",
       "      <td>2188</td>\n",
       "      <td>금선사(서울)</td>\n",
       "      <td>[서울 금선사 템플스테이] 추석맞이 부모님과 다녀온 후기 (휴식형)</td>\n",
       "      <td>https://blog.naver.com/ye_nii?Redirect=Log&amp;log...</td>\n",
       "      <td>느낌이니 금선사 템플스테이 가는 분들은 올라가시길 추천추천! 포토스팟에서 수행하는 ...</td>\n",
       "    </tr>\n",
       "    <tr>\n",
       "      <td>2189</td>\n",
       "      <td>금선사(서울)</td>\n",
       "      <td>[서울 템플스테이] #금선사 도심속 현명한 휴식</td>\n",
       "      <td>https://kama8607.blog.me/221797988707</td>\n",
       "      <td>#금선사 #템플스테이 #temple_Stay #서울템플스테이 #힐링데이트 우리3 시...</td>\n",
       "    </tr>\n",
       "    <tr>\n",
       "      <td>2190</td>\n",
       "      <td>금선사(서울)</td>\n",
       "      <td>서울 금선사 휴식형 템플스테이</td>\n",
       "      <td>https://blog.naver.com/srtraveler?Redirect=Log...</td>\n",
       "      <td>안녕하세요 저는 이번에 서울 도심에 위치한 금선사에서 휴식형 템플스테이를 다녀왔습니...</td>\n",
       "    </tr>\n",
       "    <tr>\n",
       "      <td>...</td>\n",
       "      <td>...</td>\n",
       "      <td>...</td>\n",
       "      <td>...</td>\n",
       "      <td>...</td>\n",
       "    </tr>\n",
       "    <tr>\n",
       "      <td>335792</td>\n",
       "      <td>명성산</td>\n",
       "      <td>산정호수-명성산(2018. 11. 4) : 계곡길</td>\n",
       "      <td>http://blog.daum.net/san-rak/474690</td>\n",
       "      <td>울음산이라고도 불렸던 명성산(鳴聲山, 923m). 왕건에게 쫓기던 궁예가 이 산에서...</td>\n",
       "    </tr>\n",
       "    <tr>\n",
       "      <td>335793</td>\n",
       "      <td>명성산</td>\n",
       "      <td>명성지맥 1구간 [광덕산-각흘봉-명성산-여우고개]</td>\n",
       "      <td>http://blog.daum.net/bh-mt/1720</td>\n",
       "      <td>2m), 명성산(△921.7m), 사향산(△664.5m), 관음산(△732.6m),...</td>\n",
       "    </tr>\n",
       "    <tr>\n",
       "      <td>335794</td>\n",
       "      <td>명성산</td>\n",
       "      <td>궁예봉을 경유하는 조망이 좋은 명성산 나들이</td>\n",
       "      <td>http://blog.daum.net/guninbang/726</td>\n",
       "      <td>산행일 : 2019년 10월 6일 진행경로 : 주차장 - 신안고개 - 안부 - 궁예...</td>\n",
       "    </tr>\n",
       "    <tr>\n",
       "      <td>335795</td>\n",
       "      <td>명성산</td>\n",
       "      <td>[명성산] 가을 억새와 단풍, 그리고 능선이 아름다운 가을산</td>\n",
       "      <td>http://blog.daum.net/ha0077/16343926</td>\n",
       "      <td>억새와 단풍,그리고 능선이 아름다운 가을산 명 성 산 △ 일 시 : 2019 .10...</td>\n",
       "    </tr>\n",
       "    <tr>\n",
       "      <td>335796</td>\n",
       "      <td>명성산</td>\n",
       "      <td>산정호수-명성산(2018. 11. 4) : 억새</td>\n",
       "      <td>http://blog.daum.net/san-rak/474691</td>\n",
       "      <td>5대 억새 군락지로는 민둥산, 오서산, 화왕산, 천관산, 명성산, 영남알프스가 있다...</td>\n",
       "    </tr>\n",
       "  </tbody>\n",
       "</table>\n",
       "<p>35390 rows × 4 columns</p>\n",
       "</div>"
      ],
      "text/plain": [
       "           NAME                                  title  \\\n",
       "2186    금선사(서울)   종로구 구기동 _ 서울 템플스테이 금선사 휴식형 1박2일 힐링후기   \n",
       "2187    금선사(서울)                           서울 금선사 템플스테이   \n",
       "2188    금선사(서울)  [서울 금선사 템플스테이] 추석맞이 부모님과 다녀온 후기 (휴식형)   \n",
       "2189    금선사(서울)             [서울 템플스테이] #금선사 도심속 현명한 휴식   \n",
       "2190    금선사(서울)                       서울 금선사 휴식형 템플스테이   \n",
       "...         ...                                    ...   \n",
       "335792      명성산            산정호수-명성산(2018. 11. 4) : 계곡길   \n",
       "335793      명성산            명성지맥 1구간 [광덕산-각흘봉-명성산-여우고개]   \n",
       "335794      명성산               궁예봉을 경유하는 조망이 좋은 명성산 나들이   \n",
       "335795      명성산      [명성산] 가을 억새와 단풍, 그리고 능선이 아름다운 가을산   \n",
       "335796      명성산             산정호수-명성산(2018. 11. 4) : 억새   \n",
       "\n",
       "                                                     link  \\\n",
       "2186    https://blog.naver.com/nmnma22?Redirect=Log&lo...   \n",
       "2187    https://blog.naver.com/cutejh93?Redirect=Log&l...   \n",
       "2188    https://blog.naver.com/ye_nii?Redirect=Log&log...   \n",
       "2189                https://kama8607.blog.me/221797988707   \n",
       "2190    https://blog.naver.com/srtraveler?Redirect=Log...   \n",
       "...                                                   ...   \n",
       "335792                http://blog.daum.net/san-rak/474690   \n",
       "335793                    http://blog.daum.net/bh-mt/1720   \n",
       "335794                 http://blog.daum.net/guninbang/726   \n",
       "335795               http://blog.daum.net/ha0077/16343926   \n",
       "335796                http://blog.daum.net/san-rak/474691   \n",
       "\n",
       "                                              description  \n",
       "2186    추석 연휴 전 미리 예약해둔 서울 금선사 템플스테이! 예전에 템플스테이 후기를 접하...  \n",
       "2187    있는 금선사로 선택했다. 친구랑 같이 가기로 했는데 어쩌다보니 광화문에서... 갹 ...  \n",
       "2188    느낌이니 금선사 템플스테이 가는 분들은 올라가시길 추천추천! 포토스팟에서 수행하는 ...  \n",
       "2189    #금선사 #템플스테이 #temple_Stay #서울템플스테이 #힐링데이트 우리3 시...  \n",
       "2190    안녕하세요 저는 이번에 서울 도심에 위치한 금선사에서 휴식형 템플스테이를 다녀왔습니...  \n",
       "...                                                   ...  \n",
       "335792  울음산이라고도 불렸던 명성산(鳴聲山, 923m). 왕건에게 쫓기던 궁예가 이 산에서...  \n",
       "335793  2m), 명성산(△921.7m), 사향산(△664.5m), 관음산(△732.6m),...  \n",
       "335794  산행일 : 2019년 10월 6일 진행경로 : 주차장 - 신안고개 - 안부 - 궁예...  \n",
       "335795  억새와 단풍,그리고 능선이 아름다운 가을산 명 성 산 △ 일 시 : 2019 .10...  \n",
       "335796  5대 억새 군락지로는 민둥산, 오서산, 화왕산, 천관산, 명성산, 영남알프스가 있다...  \n",
       "\n",
       "[35390 rows x 4 columns]"
      ]
     },
     "execution_count": 71,
     "metadata": {},
     "output_type": "execute_result"
    }
   ],
   "source": [
    "data2"
   ]
  },
  {
   "cell_type": "code",
   "execution_count": 72,
   "metadata": {},
   "outputs": [
    {
     "data": {
      "text/plain": [
       "348"
      ]
     },
     "execution_count": 72,
     "metadata": {},
     "output_type": "execute_result"
    }
   ],
   "source": [
    "len(data2.NAME.unique())"
   ]
  },
  {
   "cell_type": "markdown",
   "metadata": {},
   "source": [
    "#### 1000건의 명소를 크롤링 하였지만 실제 중복을 제거하였을때 990건이였다"
   ]
  },
  {
   "cell_type": "code",
   "execution_count": 73,
   "metadata": {},
   "outputs": [
    {
     "data": {
      "text/plain": [
       "990"
      ]
     },
     "execution_count": 73,
     "metadata": {},
     "output_type": "execute_result"
    }
   ],
   "source": [
    "len(set(pop_1000)) "
   ]
  },
  {
   "cell_type": "markdown",
   "metadata": {},
   "source": [
    "#### 선정된 1000곳 중 data과 data2에 이미 있는 명소는 754건 이였다"
   ]
  },
  {
   "cell_type": "code",
   "execution_count": 76,
   "metadata": {},
   "outputs": [],
   "source": [
    "exist_list = list(data.NAME.unique()) + list(data2.NAME.unique())"
   ]
  },
  {
   "cell_type": "code",
   "execution_count": 80,
   "metadata": {},
   "outputs": [
    {
     "data": {
      "text/plain": [
       "754"
      ]
     },
     "execution_count": 80,
     "metadata": {},
     "output_type": "execute_result"
    }
   ],
   "source": [
    "len(set(exist_list))"
   ]
  },
  {
   "cell_type": "markdown",
   "metadata": {},
   "source": [
    "#### data와 data2에도 겹치는 명소들이 있어 한쪽에서 지워줘야한다"
   ]
  },
  {
   "cell_type": "code",
   "execution_count": 84,
   "metadata": {},
   "outputs": [
    {
     "data": {
      "text/plain": [
       "{'백운산자연휴양림', '섭지코지', '장도', '한밭수목원'}"
      ]
     },
     "execution_count": 84,
     "metadata": {},
     "output_type": "execute_result"
    }
   ],
   "source": [
    "#한쪽에서 지워야할것\n",
    "set(data.NAME.unique())&set(data2.NAME.unique())"
   ]
  },
  {
   "cell_type": "markdown",
   "metadata": {},
   "source": [
    "### 1000곳 중에서 아직 블로그 정보가 없는 것들은 236건이다"
   ]
  },
  {
   "cell_type": "code",
   "execution_count": 90,
   "metadata": {},
   "outputs": [],
   "source": [
    "data3_list = list(set(pop_1000) - set(exist_list))"
   ]
  },
  {
   "cell_type": "code",
   "execution_count": 96,
   "metadata": {},
   "outputs": [
    {
     "data": {
      "text/plain": [
       "236"
      ]
     },
     "execution_count": 96,
     "metadata": {},
     "output_type": "execute_result"
    }
   ],
   "source": [
    "len(data3_list)"
   ]
  },
  {
   "cell_type": "code",
   "execution_count": 92,
   "metadata": {},
   "outputs": [],
   "source": [
    "import requests\n",
    "import pandas as pd\n",
    "from bs4 import BeautifulSoup\n",
    "from fake_useragent import UserAgent\n",
    "headers = {\n",
    "    \"user-agent\": UserAgent().chrome,\n",
    "    \"platform\": \"win32\",\n",
    "}\n",
    "\n",
    "\n",
    "def blog_crawling(query):\n",
    "    data = []\n",
    "    for i in range(1, 101, 10):\n",
    "        url = \"https://search.naver.com/search.naver?date_from=&date_option=0&date_to=&dup_remove=1&nso=&post_blogurl=&post_blogurl_without=&query={}&sm=tab_pge&srchby=all&st=sim&where=post&start={}\".format(\n",
    "            query, i)\n",
    "        response = requests.get(url, headers=headers)\n",
    "        NAME = query\n",
    "        dom = BeautifulSoup(response.content, \"html.parser\")\n",
    "        elements = dom.select(\"#elThumbnailResultArea > li > dl > dt \")\n",
    "        description = dom.select(\n",
    "            \"#elThumbnailResultArea > li > dl > dd.sh_blog_passage\")\n",
    "        for i, element in enumerate(elements):\n",
    "            data.append({\"NAME\": NAME,\n",
    "                         \"title\": element.select_one(\"a\").get(\"title\"),\n",
    "                         \"link\": element.select_one(\"a\").get(\"href\"),\n",
    "                         \"description\": description[i].text})\n",
    "    blog_df = pd.DataFrame(data)\n",
    "    return blog_df"
   ]
  },
  {
   "cell_type": "code",
   "execution_count": 93,
   "metadata": {},
   "outputs": [],
   "source": [
    "crawl_ls = []\n",
    "for name in data3_list:\n",
    "    crawl_ls.append(blog_crawling(name))\n",
    "    "
   ]
  },
  {
   "cell_type": "markdown",
   "metadata": {},
   "source": [
    "### crawl_df로 나머지 236곳의 명소도 블로그 정보를 가져왔다"
   ]
  },
  {
   "cell_type": "code",
   "execution_count": 94,
   "metadata": {},
   "outputs": [],
   "source": [
    "crawl_df = pd.concat(crawl_ls)"
   ]
  },
  {
   "cell_type": "code",
   "execution_count": 97,
   "metadata": {},
   "outputs": [],
   "source": [
    "crawl_df.to_csv(\"blog data3.csv\")"
   ]
  },
  {
   "cell_type": "markdown",
   "metadata": {},
   "source": [
    "### data와 data2의 겹치는 명소를 지워주기"
   ]
  },
  {
   "cell_type": "code",
   "execution_count": 99,
   "metadata": {},
   "outputs": [],
   "source": [
    "data = data[(data.NAME != '백운산자연휴양림')&(data.NAME!='섭지코지')&(data.NAME != '장도')& (data.NAME !='한밭수목원') ]"
   ]
  },
  {
   "cell_type": "code",
   "execution_count": 100,
   "metadata": {},
   "outputs": [
    {
     "data": {
      "text/html": [
       "<div>\n",
       "<style scoped>\n",
       "    .dataframe tbody tr th:only-of-type {\n",
       "        vertical-align: middle;\n",
       "    }\n",
       "\n",
       "    .dataframe tbody tr th {\n",
       "        vertical-align: top;\n",
       "    }\n",
       "\n",
       "    .dataframe thead th {\n",
       "        text-align: right;\n",
       "    }\n",
       "</style>\n",
       "<table border=\"1\" class=\"dataframe\">\n",
       "  <thead>\n",
       "    <tr style=\"text-align: right;\">\n",
       "      <th></th>\n",
       "      <th>Unnamed: 0</th>\n",
       "      <th>NAME</th>\n",
       "      <th>title</th>\n",
       "      <th>link</th>\n",
       "      <th>description</th>\n",
       "    </tr>\n",
       "  </thead>\n",
       "  <tbody>\n",
       "    <tr>\n",
       "      <td>200</td>\n",
       "      <td>0</td>\n",
       "      <td>천장호 출렁다리</td>\n",
       "      <td>청양 가볼만한곳 청양대표 천장호 출렁다리</td>\n",
       "      <td>http://blog.daum.net/e-chungnam/5967</td>\n",
       "      <td>청양 가볼만한곳 천장호 출렁다리 청양군의 대표적인 관광지 천장호 출렁다리... 천장...</td>\n",
       "    </tr>\n",
       "    <tr>\n",
       "      <td>201</td>\n",
       "      <td>1</td>\n",
       "      <td>천장호 출렁다리</td>\n",
       "      <td>천장호 출렁다리 세계에서 제일 큰 고추랑 구기자 만남</td>\n",
       "      <td>https://blog.naver.com/emong0902?Redirect=Log&amp;...</td>\n",
       "      <td>천장호, 옆으로 보이는 호수 모습이 참 아름다웠어요 그리고 천장호 출렁다리... 대...</td>\n",
       "    </tr>\n",
       "    <tr>\n",
       "      <td>202</td>\n",
       "      <td>2</td>\n",
       "      <td>천장호 출렁다리</td>\n",
       "      <td>청양 천장호출렁다리의 철쭉꽃 필 때 #페이지</td>\n",
       "      <td>https://blog.naver.com/shbae3521?Redirect=Log&amp;...</td>\n",
       "      <td>207m의 천장호출렁다리를 건너면서! 천장호를 건너면 맞은편에서 맞이하는 호랑이! ...</td>\n",
       "    </tr>\n",
       "    <tr>\n",
       "      <td>203</td>\n",
       "      <td>3</td>\n",
       "      <td>천장호 출렁다리</td>\n",
       "      <td>청양 고운식물원과 함께 만나는 천장호 출렁다리와 칠갑산천문대 스타파크</td>\n",
       "      <td>https://withbeatles.tistory.com/2903</td>\n",
       "      <td>5m의 국내 최장 출렁다리로 동양에서는 두번째로 길다. 고추 모형의 주탑을 통과한 ...</td>\n",
       "    </tr>\n",
       "    <tr>\n",
       "      <td>204</td>\n",
       "      <td>4</td>\n",
       "      <td>천장호 출렁다리</td>\n",
       "      <td>칠갑산 등산코스 천장호출렁다리 출발 원점회귀 산행</td>\n",
       "      <td>https://blog.naver.com/lbs2?Redirect=Log&amp;logNo...</td>\n",
       "      <td>출렁되는 다리에서 보는 천장호의 풍경은 고즈넉하면서 멋진 풍경입니다. 이번에 제가 ...</td>\n",
       "    </tr>\n",
       "    <tr>\n",
       "      <td>...</td>\n",
       "      <td>...</td>\n",
       "      <td>...</td>\n",
       "      <td>...</td>\n",
       "      <td>...</td>\n",
       "      <td>...</td>\n",
       "    </tr>\n",
       "    <tr>\n",
       "      <td>294893</td>\n",
       "      <td>95</td>\n",
       "      <td>광안리해변 테마거리</td>\n",
       "      <td>부산여행, 부산데이트, 민락 수변공원, 광안리해변 야경</td>\n",
       "      <td>https://blog.naver.com/star_shot?Redirect=Log&amp;...</td>\n",
       "      <td>앞이 광안리해변입니다 그래서 부산 밤 광안리, 민락수변공원 산책을 나서지 않을......</td>\n",
       "    </tr>\n",
       "    <tr>\n",
       "      <td>294894</td>\n",
       "      <td>96</td>\n",
       "      <td>광안리해변 테마거리</td>\n",
       "      <td>부산 옥련선원및 광안리 어방축제</td>\n",
       "      <td>http://blog.daum.net/ehk56/16129853</td>\n",
       "      <td>해변테마거리 → 민락횟촌 → 옥련선원 → MBC방송국 → 수영사적공원 → KBS방송...</td>\n",
       "    </tr>\n",
       "    <tr>\n",
       "      <td>294895</td>\n",
       "      <td>97</td>\n",
       "      <td>광안리해변 테마거리</td>\n",
       "      <td>광안리 어방축제가 온다!</td>\n",
       "      <td>http://blog.daum.net/sciensea/559</td>\n",
       "      <td>첫번째로 거리퍼레이드로 축체 첫째날인 6월 12일 토요일 오후 16시부터 17시30...</td>\n",
       "    </tr>\n",
       "    <tr>\n",
       "      <td>294896</td>\n",
       "      <td>98</td>\n",
       "      <td>광안리해변 테마거리</td>\n",
       "      <td>[부산가볼만한곳] 제 11회 광안리 어방축제 로 놀러오세요!</td>\n",
       "      <td>https://blog.naver.com/i_loveeye?Redirect=Log&amp;...</td>\n",
       "      <td>전국에서 유일하게 전통어촌의 민속을 주제로 열리는 \"광안리 어방축제\"는요, 광안리 ...</td>\n",
       "    </tr>\n",
       "    <tr>\n",
       "      <td>294897</td>\n",
       "      <td>99</td>\n",
       "      <td>광안리해변 테마거리</td>\n",
       "      <td>[부산] 난생 처음 부산 / 부산역 맛집 , 광안리 해변 , 비프광장</td>\n",
       "      <td>https://ddgfg54.blog.me/221623002367</td>\n",
       "      <td>체크인 시간 까지 시간이 꽤 남아서 일단 광안리 해변으로 갔다 광안리 해변... 세...</td>\n",
       "    </tr>\n",
       "  </tbody>\n",
       "</table>\n",
       "<p>40568 rows × 5 columns</p>\n",
       "</div>"
      ],
      "text/plain": [
       "        Unnamed: 0        NAME                                   title  \\\n",
       "200              0    천장호 출렁다리                  청양 가볼만한곳 청양대표 천장호 출렁다리   \n",
       "201              1    천장호 출렁다리           천장호 출렁다리 세계에서 제일 큰 고추랑 구기자 만남   \n",
       "202              2    천장호 출렁다리                청양 천장호출렁다리의 철쭉꽃 필 때 #페이지   \n",
       "203              3    천장호 출렁다리  청양 고운식물원과 함께 만나는 천장호 출렁다리와 칠갑산천문대 스타파크   \n",
       "204              4    천장호 출렁다리             칠갑산 등산코스 천장호출렁다리 출발 원점회귀 산행   \n",
       "...            ...         ...                                     ...   \n",
       "294893          95  광안리해변 테마거리          부산여행, 부산데이트, 민락 수변공원, 광안리해변 야경   \n",
       "294894          96  광안리해변 테마거리                       부산 옥련선원및 광안리 어방축제   \n",
       "294895          97  광안리해변 테마거리                           광안리 어방축제가 온다!   \n",
       "294896          98  광안리해변 테마거리       [부산가볼만한곳] 제 11회 광안리 어방축제 로 놀러오세요!   \n",
       "294897          99  광안리해변 테마거리  [부산] 난생 처음 부산 / 부산역 맛집 , 광안리 해변 , 비프광장   \n",
       "\n",
       "                                                     link  \\\n",
       "200                  http://blog.daum.net/e-chungnam/5967   \n",
       "201     https://blog.naver.com/emong0902?Redirect=Log&...   \n",
       "202     https://blog.naver.com/shbae3521?Redirect=Log&...   \n",
       "203                  https://withbeatles.tistory.com/2903   \n",
       "204     https://blog.naver.com/lbs2?Redirect=Log&logNo...   \n",
       "...                                                   ...   \n",
       "294893  https://blog.naver.com/star_shot?Redirect=Log&...   \n",
       "294894                http://blog.daum.net/ehk56/16129853   \n",
       "294895                  http://blog.daum.net/sciensea/559   \n",
       "294896  https://blog.naver.com/i_loveeye?Redirect=Log&...   \n",
       "294897               https://ddgfg54.blog.me/221623002367   \n",
       "\n",
       "                                              description  \n",
       "200     청양 가볼만한곳 천장호 출렁다리 청양군의 대표적인 관광지 천장호 출렁다리... 천장...  \n",
       "201     천장호, 옆으로 보이는 호수 모습이 참 아름다웠어요 그리고 천장호 출렁다리... 대...  \n",
       "202     207m의 천장호출렁다리를 건너면서! 천장호를 건너면 맞은편에서 맞이하는 호랑이! ...  \n",
       "203     5m의 국내 최장 출렁다리로 동양에서는 두번째로 길다. 고추 모형의 주탑을 통과한 ...  \n",
       "204     출렁되는 다리에서 보는 천장호의 풍경은 고즈넉하면서 멋진 풍경입니다. 이번에 제가 ...  \n",
       "...                                                   ...  \n",
       "294893  앞이 광안리해변입니다 그래서 부산 밤 광안리, 민락수변공원 산책을 나서지 않을......  \n",
       "294894  해변테마거리 → 민락횟촌 → 옥련선원 → MBC방송국 → 수영사적공원 → KBS방송...  \n",
       "294895  첫번째로 거리퍼레이드로 축체 첫째날인 6월 12일 토요일 오후 16시부터 17시30...  \n",
       "294896  전국에서 유일하게 전통어촌의 민속을 주제로 열리는 \"광안리 어방축제\"는요, 광안리 ...  \n",
       "294897  체크인 시간 까지 시간이 꽤 남아서 일단 광안리 해변으로 갔다 광안리 해변... 세...  \n",
       "\n",
       "[40568 rows x 5 columns]"
      ]
     },
     "execution_count": 100,
     "metadata": {},
     "output_type": "execute_result"
    }
   ],
   "source": [
    "data"
   ]
  },
  {
   "cell_type": "markdown",
   "metadata": {},
   "source": [
    "### 최종적으로 data와 data2 와 crawl_df를 합쳐서 990곳의 명소를 가져왔다\n",
    "    - 블로그 정보가 100건이 안되는 명소들이 있었다"
   ]
  },
  {
   "cell_type": "code",
   "execution_count": 102,
   "metadata": {},
   "outputs": [],
   "source": [
    "final_data = pd.concat([data, data2,crawl_df ])"
   ]
  },
  {
   "cell_type": "code",
   "execution_count": null,
   "metadata": {},
   "outputs": [],
   "source": [
    "final_data"
   ]
  },
  {
   "cell_type": "code",
   "execution_count": 103,
   "metadata": {},
   "outputs": [],
   "source": [
    "#네이버 블로그 체크하기\n",
    "final_data[\"naverblog\"]  = final_data[\"link\"].apply(lambda x : x if \"blog.naver.com\" in x else \"1\")"
   ]
  },
  {
   "cell_type": "code",
   "execution_count": 104,
   "metadata": {},
   "outputs": [
    {
     "data": {
      "text/html": [
       "<div>\n",
       "<style scoped>\n",
       "    .dataframe tbody tr th:only-of-type {\n",
       "        vertical-align: middle;\n",
       "    }\n",
       "\n",
       "    .dataframe tbody tr th {\n",
       "        vertical-align: top;\n",
       "    }\n",
       "\n",
       "    .dataframe thead th {\n",
       "        text-align: right;\n",
       "    }\n",
       "</style>\n",
       "<table border=\"1\" class=\"dataframe\">\n",
       "  <thead>\n",
       "    <tr style=\"text-align: right;\">\n",
       "      <th></th>\n",
       "      <th>NAME</th>\n",
       "      <th>Unnamed: 0</th>\n",
       "      <th>description</th>\n",
       "      <th>link</th>\n",
       "      <th>title</th>\n",
       "      <th>naverblog</th>\n",
       "    </tr>\n",
       "  </thead>\n",
       "  <tbody>\n",
       "    <tr>\n",
       "      <td>200</td>\n",
       "      <td>천장호 출렁다리</td>\n",
       "      <td>0.0</td>\n",
       "      <td>청양 가볼만한곳 천장호 출렁다리 청양군의 대표적인 관광지 천장호 출렁다리... 천장...</td>\n",
       "      <td>http://blog.daum.net/e-chungnam/5967</td>\n",
       "      <td>청양 가볼만한곳 청양대표 천장호 출렁다리</td>\n",
       "      <td>1</td>\n",
       "    </tr>\n",
       "    <tr>\n",
       "      <td>201</td>\n",
       "      <td>천장호 출렁다리</td>\n",
       "      <td>1.0</td>\n",
       "      <td>천장호, 옆으로 보이는 호수 모습이 참 아름다웠어요 그리고 천장호 출렁다리... 대...</td>\n",
       "      <td>https://blog.naver.com/emong0902?Redirect=Log&amp;...</td>\n",
       "      <td>천장호 출렁다리 세계에서 제일 큰 고추랑 구기자 만남</td>\n",
       "      <td>https://blog.naver.com/emong0902?Redirect=Log&amp;...</td>\n",
       "    </tr>\n",
       "    <tr>\n",
       "      <td>202</td>\n",
       "      <td>천장호 출렁다리</td>\n",
       "      <td>2.0</td>\n",
       "      <td>207m의 천장호출렁다리를 건너면서! 천장호를 건너면 맞은편에서 맞이하는 호랑이! ...</td>\n",
       "      <td>https://blog.naver.com/shbae3521?Redirect=Log&amp;...</td>\n",
       "      <td>청양 천장호출렁다리의 철쭉꽃 필 때 #페이지</td>\n",
       "      <td>https://blog.naver.com/shbae3521?Redirect=Log&amp;...</td>\n",
       "    </tr>\n",
       "    <tr>\n",
       "      <td>203</td>\n",
       "      <td>천장호 출렁다리</td>\n",
       "      <td>3.0</td>\n",
       "      <td>5m의 국내 최장 출렁다리로 동양에서는 두번째로 길다. 고추 모형의 주탑을 통과한 ...</td>\n",
       "      <td>https://withbeatles.tistory.com/2903</td>\n",
       "      <td>청양 고운식물원과 함께 만나는 천장호 출렁다리와 칠갑산천문대 스타파크</td>\n",
       "      <td>1</td>\n",
       "    </tr>\n",
       "    <tr>\n",
       "      <td>204</td>\n",
       "      <td>천장호 출렁다리</td>\n",
       "      <td>4.0</td>\n",
       "      <td>출렁되는 다리에서 보는 천장호의 풍경은 고즈넉하면서 멋진 풍경입니다. 이번에 제가 ...</td>\n",
       "      <td>https://blog.naver.com/lbs2?Redirect=Log&amp;logNo...</td>\n",
       "      <td>칠갑산 등산코스 천장호출렁다리 출발 원점회귀 산행</td>\n",
       "      <td>https://blog.naver.com/lbs2?Redirect=Log&amp;logNo...</td>\n",
       "    </tr>\n",
       "    <tr>\n",
       "      <td>...</td>\n",
       "      <td>...</td>\n",
       "      <td>...</td>\n",
       "      <td>...</td>\n",
       "      <td>...</td>\n",
       "      <td>...</td>\n",
       "      <td>...</td>\n",
       "    </tr>\n",
       "    <tr>\n",
       "      <td>95</td>\n",
       "      <td>김삿갓계곡</td>\n",
       "      <td>NaN</td>\n",
       "      <td>칠랑이계곡에서 하루를 묵고 김삿갓계곡(영월군김삿갓면)을 찾아가던중 소나무가 아름다운...</td>\n",
       "      <td>https://blog.naver.com/jsywoon?Redirect=Log&amp;lo...</td>\n",
       "      <td>강원동활계곡,.칠랑이계곡 김삿갓계곡,옥동천 여행</td>\n",
       "      <td>https://blog.naver.com/jsywoon?Redirect=Log&amp;lo...</td>\n",
       "    </tr>\n",
       "    <tr>\n",
       "      <td>96</td>\n",
       "      <td>김삿갓계곡</td>\n",
       "      <td>NaN</td>\n",
       "      <td>김삿갓계곡으로 들어가는 초입에 위치하고 있다 김삿갓 문학관으로 들어가는 길목... ...</td>\n",
       "      <td>http://blog.daum.net/winner3949/11731276</td>\n",
       "      <td>[영월김삿갓마을]아름다운 계곡과 풍경이 있는곳 가향팬션</td>\n",
       "      <td>1</td>\n",
       "    </tr>\n",
       "    <tr>\n",
       "      <td>97</td>\n",
       "      <td>김삿갓계곡</td>\n",
       "      <td>NaN</td>\n",
       "      <td>28 영월 모운동-김삿갓 계곡 with 형원, 우기....그리고 민기,재원이 가족....</td>\n",
       "      <td>https://blog.naver.com/mgate9009?Redirect=Log&amp;...</td>\n",
       "      <td>영월 모운종-김삿갓 계곡 - 1</td>\n",
       "      <td>https://blog.naver.com/mgate9009?Redirect=Log&amp;...</td>\n",
       "    </tr>\n",
       "    <tr>\n",
       "      <td>98</td>\n",
       "      <td>김삿갓계곡</td>\n",
       "      <td>NaN</td>\n",
       "      <td>같다 김삿갓공원 입구 자연석 바위와 돌탑이 묘한 조화를 이룬다 공원을 잘 꾸며 놓았...</td>\n",
       "      <td>http://blog.daum.net/yjyj0355/1138</td>\n",
       "      <td>김삿갓 계곡</td>\n",
       "      <td>1</td>\n",
       "    </tr>\n",
       "    <tr>\n",
       "      <td>99</td>\n",
       "      <td>김삿갓계곡</td>\n",
       "      <td>NaN</td>\n",
       "      <td>계곡물이 깨끗해서 물고기들이 엄청 많이 살더라구요, 그래서 물놀이 대신, 이 김삿갓...</td>\n",
       "      <td>https://blog.naver.com/fudandsin?Redirect=Log&amp;...</td>\n",
       "      <td>영월 김삿갓계곡 / 고씨굴 / 한반도지형</td>\n",
       "      <td>https://blog.naver.com/fudandsin?Redirect=Log&amp;...</td>\n",
       "    </tr>\n",
       "  </tbody>\n",
       "</table>\n",
       "<p>99558 rows × 6 columns</p>\n",
       "</div>"
      ],
      "text/plain": [
       "         NAME  Unnamed: 0                                        description  \\\n",
       "200  천장호 출렁다리         0.0  청양 가볼만한곳 천장호 출렁다리 청양군의 대표적인 관광지 천장호 출렁다리... 천장...   \n",
       "201  천장호 출렁다리         1.0  천장호, 옆으로 보이는 호수 모습이 참 아름다웠어요 그리고 천장호 출렁다리... 대...   \n",
       "202  천장호 출렁다리         2.0  207m의 천장호출렁다리를 건너면서! 천장호를 건너면 맞은편에서 맞이하는 호랑이! ...   \n",
       "203  천장호 출렁다리         3.0  5m의 국내 최장 출렁다리로 동양에서는 두번째로 길다. 고추 모형의 주탑을 통과한 ...   \n",
       "204  천장호 출렁다리         4.0  출렁되는 다리에서 보는 천장호의 풍경은 고즈넉하면서 멋진 풍경입니다. 이번에 제가 ...   \n",
       "..        ...         ...                                                ...   \n",
       "95      김삿갓계곡         NaN  칠랑이계곡에서 하루를 묵고 김삿갓계곡(영월군김삿갓면)을 찾아가던중 소나무가 아름다운...   \n",
       "96      김삿갓계곡         NaN  김삿갓계곡으로 들어가는 초입에 위치하고 있다 김삿갓 문학관으로 들어가는 길목... ...   \n",
       "97      김삿갓계곡         NaN  28 영월 모운동-김삿갓 계곡 with 형원, 우기....그리고 민기,재원이 가족....   \n",
       "98      김삿갓계곡         NaN  같다 김삿갓공원 입구 자연석 바위와 돌탑이 묘한 조화를 이룬다 공원을 잘 꾸며 놓았...   \n",
       "99      김삿갓계곡         NaN  계곡물이 깨끗해서 물고기들이 엄청 많이 살더라구요, 그래서 물놀이 대신, 이 김삿갓...   \n",
       "\n",
       "                                                  link  \\\n",
       "200               http://blog.daum.net/e-chungnam/5967   \n",
       "201  https://blog.naver.com/emong0902?Redirect=Log&...   \n",
       "202  https://blog.naver.com/shbae3521?Redirect=Log&...   \n",
       "203               https://withbeatles.tistory.com/2903   \n",
       "204  https://blog.naver.com/lbs2?Redirect=Log&logNo...   \n",
       "..                                                 ...   \n",
       "95   https://blog.naver.com/jsywoon?Redirect=Log&lo...   \n",
       "96            http://blog.daum.net/winner3949/11731276   \n",
       "97   https://blog.naver.com/mgate9009?Redirect=Log&...   \n",
       "98                  http://blog.daum.net/yjyj0355/1138   \n",
       "99   https://blog.naver.com/fudandsin?Redirect=Log&...   \n",
       "\n",
       "                                      title  \\\n",
       "200                  청양 가볼만한곳 청양대표 천장호 출렁다리   \n",
       "201           천장호 출렁다리 세계에서 제일 큰 고추랑 구기자 만남   \n",
       "202                청양 천장호출렁다리의 철쭉꽃 필 때 #페이지   \n",
       "203  청양 고운식물원과 함께 만나는 천장호 출렁다리와 칠갑산천문대 스타파크   \n",
       "204             칠갑산 등산코스 천장호출렁다리 출발 원점회귀 산행   \n",
       "..                                      ...   \n",
       "95               강원동활계곡,.칠랑이계곡 김삿갓계곡,옥동천 여행   \n",
       "96           [영월김삿갓마을]아름다운 계곡과 풍경이 있는곳 가향팬션   \n",
       "97                        영월 모운종-김삿갓 계곡 - 1   \n",
       "98                                   김삿갓 계곡   \n",
       "99                   영월 김삿갓계곡 / 고씨굴 / 한반도지형   \n",
       "\n",
       "                                             naverblog  \n",
       "200                                                  1  \n",
       "201  https://blog.naver.com/emong0902?Redirect=Log&...  \n",
       "202  https://blog.naver.com/shbae3521?Redirect=Log&...  \n",
       "203                                                  1  \n",
       "204  https://blog.naver.com/lbs2?Redirect=Log&logNo...  \n",
       "..                                                 ...  \n",
       "95   https://blog.naver.com/jsywoon?Redirect=Log&lo...  \n",
       "96                                                   1  \n",
       "97   https://blog.naver.com/mgate9009?Redirect=Log&...  \n",
       "98                                                   1  \n",
       "99   https://blog.naver.com/fudandsin?Redirect=Log&...  \n",
       "\n",
       "[99558 rows x 6 columns]"
      ]
     },
     "execution_count": 104,
     "metadata": {},
     "output_type": "execute_result"
    }
   ],
   "source": [
    "final_data"
   ]
  },
  {
   "cell_type": "code",
   "execution_count": 105,
   "metadata": {},
   "outputs": [],
   "source": [
    "final_data = final_data[final_data[\"naverblog\"] != \"1\"]"
   ]
  },
  {
   "cell_type": "markdown",
   "metadata": {},
   "source": [
    "### 블로그 본문을 크롤링 하기 위한 밑작업\n",
    "   - 블로그의 본문을 크롤링하기에 명소당 100건의 블로그의 본문을 크롤링하는것은 데이터가 너무 많다고 판단하여 명소당 10건의 명소를 크롤링하기로 하였음\n",
    "   - 블로그중에서 네이버 블로그가 아닌것들은 제거하였다\n",
    "   - 따라서 총 990개의 명소중에서 10개의 블로그 총 9900건의 블로그 정보를 남겼다"
   ]
  },
  {
   "cell_type": "code",
   "execution_count": null,
   "metadata": {},
   "outputs": [],
   "source": [
    "# 네이버 블로그만 남긴 데이터 저장\n",
    "data.to_csv('only naver blog.csv')"
   ]
  },
  {
   "cell_type": "code",
   "execution_count": 106,
   "metadata": {},
   "outputs": [],
   "source": [
    "# 네이버 블로그에서 상위 10개만 남김\n",
    "top10 = final_data.groupby('NAME').head(10)"
   ]
  },
  {
   "cell_type": "code",
   "execution_count": 109,
   "metadata": {},
   "outputs": [
    {
     "data": {
      "text/html": [
       "<div>\n",
       "<style scoped>\n",
       "    .dataframe tbody tr th:only-of-type {\n",
       "        vertical-align: middle;\n",
       "    }\n",
       "\n",
       "    .dataframe tbody tr th {\n",
       "        vertical-align: top;\n",
       "    }\n",
       "\n",
       "    .dataframe thead th {\n",
       "        text-align: right;\n",
       "    }\n",
       "</style>\n",
       "<table border=\"1\" class=\"dataframe\">\n",
       "  <thead>\n",
       "    <tr style=\"text-align: right;\">\n",
       "      <th></th>\n",
       "      <th>NAME</th>\n",
       "      <th>Unnamed: 0</th>\n",
       "      <th>description</th>\n",
       "      <th>link</th>\n",
       "      <th>title</th>\n",
       "      <th>naverblog</th>\n",
       "    </tr>\n",
       "  </thead>\n",
       "  <tbody>\n",
       "    <tr>\n",
       "      <td>201</td>\n",
       "      <td>천장호 출렁다리</td>\n",
       "      <td>1.0</td>\n",
       "      <td>천장호, 옆으로 보이는 호수 모습이 참 아름다웠어요 그리고 천장호 출렁다리... 대...</td>\n",
       "      <td>https://blog.naver.com/emong0902?Redirect=Log&amp;...</td>\n",
       "      <td>천장호 출렁다리 세계에서 제일 큰 고추랑 구기자 만남</td>\n",
       "      <td>https://blog.naver.com/emong0902?Redirect=Log&amp;...</td>\n",
       "    </tr>\n",
       "    <tr>\n",
       "      <td>202</td>\n",
       "      <td>천장호 출렁다리</td>\n",
       "      <td>2.0</td>\n",
       "      <td>207m의 천장호출렁다리를 건너면서! 천장호를 건너면 맞은편에서 맞이하는 호랑이! ...</td>\n",
       "      <td>https://blog.naver.com/shbae3521?Redirect=Log&amp;...</td>\n",
       "      <td>청양 천장호출렁다리의 철쭉꽃 필 때 #페이지</td>\n",
       "      <td>https://blog.naver.com/shbae3521?Redirect=Log&amp;...</td>\n",
       "    </tr>\n",
       "    <tr>\n",
       "      <td>204</td>\n",
       "      <td>천장호 출렁다리</td>\n",
       "      <td>4.0</td>\n",
       "      <td>출렁되는 다리에서 보는 천장호의 풍경은 고즈넉하면서 멋진 풍경입니다. 이번에 제가 ...</td>\n",
       "      <td>https://blog.naver.com/lbs2?Redirect=Log&amp;logNo...</td>\n",
       "      <td>칠갑산 등산코스 천장호출렁다리 출발 원점회귀 산행</td>\n",
       "      <td>https://blog.naver.com/lbs2?Redirect=Log&amp;logNo...</td>\n",
       "    </tr>\n",
       "    <tr>\n",
       "      <td>205</td>\n",
       "      <td>천장호 출렁다리</td>\n",
       "      <td>5.0</td>\n",
       "      <td>천장호 출렁다리 오른쪽으로 가면서 둘레길이 조성되어 있어 천장호를 따라서 트레킹을 ...</td>\n",
       "      <td>https://blog.naver.com/cheongyange?Redirect=Lo...</td>\n",
       "      <td>마음도 출렁 몸도 출렁 천장호 출렁다리</td>\n",
       "      <td>https://blog.naver.com/cheongyange?Redirect=Lo...</td>\n",
       "    </tr>\n",
       "    <tr>\n",
       "      <td>206</td>\n",
       "      <td>천장호 출렁다리</td>\n",
       "      <td>6.0</td>\n",
       "      <td>장곡사를 나와 몇해전 가본적 있는 천장호 출렁다리에 다시 가보았다. 207m, 폭 ...</td>\n",
       "      <td>https://blog.naver.com/ranny88?Redirect=Log&amp;lo...</td>\n",
       "      <td>장곡사&amp;천장호 출렁다리</td>\n",
       "      <td>https://blog.naver.com/ranny88?Redirect=Log&amp;lo...</td>\n",
       "    </tr>\n",
       "    <tr>\n",
       "      <td>...</td>\n",
       "      <td>...</td>\n",
       "      <td>...</td>\n",
       "      <td>...</td>\n",
       "      <td>...</td>\n",
       "      <td>...</td>\n",
       "      <td>...</td>\n",
       "    </tr>\n",
       "    <tr>\n",
       "      <td>6</td>\n",
       "      <td>김삿갓계곡</td>\n",
       "      <td>NaN</td>\n",
       "      <td>죽장에 삿갓쓰고~~~ ~~~떠나가는 김삿갓. 산... blog.naver.com 김...</td>\n",
       "      <td>https://blog.naver.com/cch4817?Redirect=Log&amp;lo...</td>\n",
       "      <td>바처구처의 주유천하 280.  -김삿갓 계곡에 갔드래요!!-</td>\n",
       "      <td>https://blog.naver.com/cch4817?Redirect=Log&amp;lo...</td>\n",
       "    </tr>\n",
       "    <tr>\n",
       "      <td>7</td>\n",
       "      <td>김삿갓계곡</td>\n",
       "      <td>NaN</td>\n",
       "      <td>중요한 김삿갓계곡! 숙소 바로앞에 좁은 도로를 건너면 바로 계곡이 나오지만 거긴 물...</td>\n",
       "      <td>https://blog.naver.com/jyun1533?Redirect=Log&amp;l...</td>\n",
       "      <td>강원도영월여행:영월에어비앤비후기(스테이하우스,김삿갓계곡)</td>\n",
       "      <td>https://blog.naver.com/jyun1533?Redirect=Log&amp;l...</td>\n",
       "    </tr>\n",
       "    <tr>\n",
       "      <td>8</td>\n",
       "      <td>김삿갓계곡</td>\n",
       "      <td>NaN</td>\n",
       "      <td>생각에 #여름캠핑장소 김삿갓계곡 #히어리캠핑장 을 소개 해 볼까 해요. 8월... ...</td>\n",
       "      <td>https://blog.naver.com/vustjs?Redirect=Log&amp;log...</td>\n",
       "      <td>여름캠핑, 김삿갓계곡 히어리캠핑장</td>\n",
       "      <td>https://blog.naver.com/vustjs?Redirect=Log&amp;log...</td>\n",
       "    </tr>\n",
       "    <tr>\n",
       "      <td>9</td>\n",
       "      <td>김삿갓계곡</td>\n",
       "      <td>NaN</td>\n",
       "      <td>우리가 영월에서 1박을 한 곳은 바로 김삿갓 계곡쪽에 있는 황토 펜션~~ 김삿갓 흙...</td>\n",
       "      <td>https://blog.naver.com/apple_8505?Redirect=Log...</td>\n",
       "      <td>영월 김삿갓계곡 펜션 흙집이야기 of 황토</td>\n",
       "      <td>https://blog.naver.com/apple_8505?Redirect=Log...</td>\n",
       "    </tr>\n",
       "    <tr>\n",
       "      <td>10</td>\n",
       "      <td>김삿갓계곡</td>\n",
       "      <td>NaN</td>\n",
       "      <td>#김삿갓계곡펜션 #영월숙소 강원도 영월군 김삿갓면 와석리 751-8 010 - 37...</td>\n",
       "      <td>https://blog.naver.com/subdue05?Redirect=Log&amp;l...</td>\n",
       "      <td>영월숙소 김삿갓계곡 펜션 여긴 강원도 애견동반 가능하고 단체및가족이 오기 괜찮은 데...</td>\n",
       "      <td>https://blog.naver.com/subdue05?Redirect=Log&amp;l...</td>\n",
       "    </tr>\n",
       "  </tbody>\n",
       "</table>\n",
       "<p>9900 rows × 6 columns</p>\n",
       "</div>"
      ],
      "text/plain": [
       "         NAME  Unnamed: 0                                        description  \\\n",
       "201  천장호 출렁다리         1.0  천장호, 옆으로 보이는 호수 모습이 참 아름다웠어요 그리고 천장호 출렁다리... 대...   \n",
       "202  천장호 출렁다리         2.0  207m의 천장호출렁다리를 건너면서! 천장호를 건너면 맞은편에서 맞이하는 호랑이! ...   \n",
       "204  천장호 출렁다리         4.0  출렁되는 다리에서 보는 천장호의 풍경은 고즈넉하면서 멋진 풍경입니다. 이번에 제가 ...   \n",
       "205  천장호 출렁다리         5.0  천장호 출렁다리 오른쪽으로 가면서 둘레길이 조성되어 있어 천장호를 따라서 트레킹을 ...   \n",
       "206  천장호 출렁다리         6.0  장곡사를 나와 몇해전 가본적 있는 천장호 출렁다리에 다시 가보았다. 207m, 폭 ...   \n",
       "..        ...         ...                                                ...   \n",
       "6       김삿갓계곡         NaN  죽장에 삿갓쓰고~~~ ~~~떠나가는 김삿갓. 산... blog.naver.com 김...   \n",
       "7       김삿갓계곡         NaN  중요한 김삿갓계곡! 숙소 바로앞에 좁은 도로를 건너면 바로 계곡이 나오지만 거긴 물...   \n",
       "8       김삿갓계곡         NaN  생각에 #여름캠핑장소 김삿갓계곡 #히어리캠핑장 을 소개 해 볼까 해요. 8월... ...   \n",
       "9       김삿갓계곡         NaN  우리가 영월에서 1박을 한 곳은 바로 김삿갓 계곡쪽에 있는 황토 펜션~~ 김삿갓 흙...   \n",
       "10      김삿갓계곡         NaN  #김삿갓계곡펜션 #영월숙소 강원도 영월군 김삿갓면 와석리 751-8 010 - 37...   \n",
       "\n",
       "                                                  link  \\\n",
       "201  https://blog.naver.com/emong0902?Redirect=Log&...   \n",
       "202  https://blog.naver.com/shbae3521?Redirect=Log&...   \n",
       "204  https://blog.naver.com/lbs2?Redirect=Log&logNo...   \n",
       "205  https://blog.naver.com/cheongyange?Redirect=Lo...   \n",
       "206  https://blog.naver.com/ranny88?Redirect=Log&lo...   \n",
       "..                                                 ...   \n",
       "6    https://blog.naver.com/cch4817?Redirect=Log&lo...   \n",
       "7    https://blog.naver.com/jyun1533?Redirect=Log&l...   \n",
       "8    https://blog.naver.com/vustjs?Redirect=Log&log...   \n",
       "9    https://blog.naver.com/apple_8505?Redirect=Log...   \n",
       "10   https://blog.naver.com/subdue05?Redirect=Log&l...   \n",
       "\n",
       "                                                 title  \\\n",
       "201                      천장호 출렁다리 세계에서 제일 큰 고추랑 구기자 만남   \n",
       "202                           청양 천장호출렁다리의 철쭉꽃 필 때 #페이지   \n",
       "204                        칠갑산 등산코스 천장호출렁다리 출발 원점회귀 산행   \n",
       "205                              마음도 출렁 몸도 출렁 천장호 출렁다리   \n",
       "206                                       장곡사&천장호 출렁다리   \n",
       "..                                                 ...   \n",
       "6                    바처구처의 주유천하 280.  -김삿갓 계곡에 갔드래요!!-   \n",
       "7                      강원도영월여행:영월에어비앤비후기(스테이하우스,김삿갓계곡)   \n",
       "8                                   여름캠핑, 김삿갓계곡 히어리캠핑장   \n",
       "9                              영월 김삿갓계곡 펜션 흙집이야기 of 황토   \n",
       "10   영월숙소 김삿갓계곡 펜션 여긴 강원도 애견동반 가능하고 단체및가족이 오기 괜찮은 데...   \n",
       "\n",
       "                                             naverblog  \n",
       "201  https://blog.naver.com/emong0902?Redirect=Log&...  \n",
       "202  https://blog.naver.com/shbae3521?Redirect=Log&...  \n",
       "204  https://blog.naver.com/lbs2?Redirect=Log&logNo...  \n",
       "205  https://blog.naver.com/cheongyange?Redirect=Lo...  \n",
       "206  https://blog.naver.com/ranny88?Redirect=Log&lo...  \n",
       "..                                                 ...  \n",
       "6    https://blog.naver.com/cch4817?Redirect=Log&lo...  \n",
       "7    https://blog.naver.com/jyun1533?Redirect=Log&l...  \n",
       "8    https://blog.naver.com/vustjs?Redirect=Log&log...  \n",
       "9    https://blog.naver.com/apple_8505?Redirect=Log...  \n",
       "10   https://blog.naver.com/subdue05?Redirect=Log&l...  \n",
       "\n",
       "[9900 rows x 6 columns]"
      ]
     },
     "execution_count": 109,
     "metadata": {},
     "output_type": "execute_result"
    }
   ],
   "source": [
    "top10"
   ]
  },
  {
   "cell_type": "code",
   "execution_count": 113,
   "metadata": {},
   "outputs": [],
   "source": [
    "top10 = top10.drop([\"Unnamed: 0\", \"naverblog\"], axis=1)"
   ]
  },
  {
   "cell_type": "code",
   "execution_count": null,
   "metadata": {},
   "outputs": [],
   "source": [
    "# 명소당 10건의 상위블로그를 정보가 담긴 데이터 프레임을 저장하였다\n",
    "top10.to_csv(\"final_data.csv\")"
   ]
  },
  {
   "cell_type": "code",
   "execution_count": 1,
   "metadata": {},
   "outputs": [],
   "source": [
    "# 저장이 되었는지 확인\n",
    "top10 = pd.read_csv(\"final_data.csv\")"
   ]
  },
  {
   "cell_type": "code",
   "execution_count": null,
   "metadata": {},
   "outputs": [],
   "source": []
  }
 ],
 "metadata": {
  "kernelspec": {
   "display_name": "Python 3",
   "language": "python",
   "name": "python3"
  },
  "language_info": {
   "codemirror_mode": {
    "name": "ipython",
    "version": 3
   },
   "file_extension": ".py",
   "mimetype": "text/x-python",
   "name": "python",
   "nbconvert_exporter": "python",
   "pygments_lexer": "ipython3",
   "version": "3.7.4"
  }
 },
 "nbformat": 4,
 "nbformat_minor": 2
}
